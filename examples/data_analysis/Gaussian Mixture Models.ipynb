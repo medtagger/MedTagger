{
 "cells": [
  {
   "cell_type": "markdown",
   "metadata": {},
   "source": [
    "# Gaussian Mixture Models\n",
    "\n",
    "This example uses Gaussian Mixture Models algorithm to generate and analyse Ground Truth data set. In order to do so, we've prepared a set of experiments which results are described below.\n",
    "\n",
    "### Experiment description\n",
    "In below experiment, we've collected 1319 rectangle annotations for 5 Scans with 156 Slices total. Labels were taken by 36 Users considered to be non-experts."
   ]
  },
  {
   "cell_type": "markdown",
   "metadata": {},
   "source": [
    "### Preparation\n",
    "At the beginning, let's import the most important modules and classes from the MedTagger internal API."
   ]
  },
  {
   "cell_type": "code",
   "execution_count": 1,
   "metadata": {},
   "outputs": [],
   "source": [
    "from medtagger.database import models\n",
    "from medtagger.ground_truth.algorithms.gaussian_mixture_models import \\\n",
    "    GaussianMixtureModelsAlgorithm\n",
    "from medtagger.ground_truth.generator import DataSetGenerator\n",
    "from medtagger.ground_truth.quality import figures\n",
    "from medtagger.ground_truth.quality.user_specificity_sensitivity import \\\n",
    "    compute_specificity_and_sensitivity_for_users"
   ]
  },
  {
   "cell_type": "code",
   "execution_count": 2,
   "metadata": {},
   "outputs": [],
   "source": [
    "import matplotlib.pyplot as plt\n",
    "plt.rcParams['figure.figsize'] = [12.0, 8.0]"
   ]
  },
  {
   "cell_type": "markdown",
   "metadata": {},
   "source": [
    "### Create Generator instance\n",
    "\n",
    "To create Ground Truth data set, all you need is to define your data set generator and an algorithm that should be used during generation."
   ]
  },
  {
   "cell_type": "code",
   "execution_count": 3,
   "metadata": {},
   "outputs": [],
   "source": [
    "algorithm = GaussianMixtureModelsAlgorithm()\n",
    "generator = DataSetGenerator(algorithm)"
   ]
  },
  {
   "cell_type": "markdown",
   "metadata": {},
   "source": [
    "### Select Scans for analysis\n",
    "\n",
    "Then, select all Scans that you would like to analyse."
   ]
  },
  {
   "cell_type": "code",
   "execution_count": 4,
   "metadata": {},
   "outputs": [
    {
     "name": "stdout",
     "output_type": "stream",
     "text": [
      "Scan IDs: {'8b5d264d-bc2f-458f-ba68-2a987d55deae', '03647f36-d874-480b-aaec-c2c3b9d80092', 'b750320e-5664-4eff-b4c7-49e4f43ce6ca', '40761156-99db-4647-9b72-8e449e6cb54c', '7985ea16-d5a4-4bda-92db-43a3cc074216'}\n"
     ]
    }
   ],
   "source": [
    "scans = models.Scan.query.all()\n",
    "scans_ids = {scan.id for scan in scans}\n",
    "print(f'Scan IDs: {scans_ids}')"
   ]
  },
  {
   "cell_type": "markdown",
   "metadata": {},
   "source": [
    "### Select Label Elements for analysis\n",
    "\n",
    "Now, select all Label Elements that should be analysed.\n",
    "\n",
    "**IMPORTANT:** Currently Data Set Generator assumes only one Label Element per Slice. Don't worry, this will change in the near future."
   ]
  },
  {
   "cell_type": "code",
   "execution_count": 5,
   "metadata": {
    "scrolled": true
   },
   "outputs": [
    {
     "name": "stdout",
     "output_type": "stream",
     "text": [
      "There are 1319 Rectangular Label Elements.\n",
      "Example: <RectangularLabelElement: 6b7518c7-3d5c-408b-811c-a144e10b154c>\n"
     ]
    }
   ],
   "source": [
    "query = models.RectangularLabelElement.query.join(models.Label)\n",
    "query = query.filter(models.Label.scan_id.in_(scans_ids))\n",
    "rectangular_label_elements = query.all()\n",
    "print(f'There are {len(rectangular_label_elements)} Rectangular Label Elements.')\n",
    "print(f'Example: {rectangular_label_elements[0]}')"
   ]
  },
  {
   "cell_type": "markdown",
   "metadata": {},
   "source": [
    "### Generate Ground Truth data set\n",
    "\n",
    "Take your Label Elements and use generator to generate output Ground Truth annotations for each Slice that took part in the labeling process."
   ]
  },
  {
   "cell_type": "code",
   "execution_count": 6,
   "metadata": {
    "scrolled": false
   },
   "outputs": [
    {
     "data": {
      "text/plain": [
       "{'98e0976c-9f6f-4d73-b8b9-2020c48c7d9b': None,\n",
       " 'ab6c4cb6-7d66-4a61-a0ad-2f444d197eba': array([0.25703314, 0.48506169, 0.38970684, 0.71639428]),\n",
       " '60f9abaa-ecb3-4701-acbd-f129bde2dda3': None,\n",
       " 'cc2379c8-e487-4a41-95d1-7bbe0badcd4d': array([0.30943122, 0.3790784 , 0.42697558, 0.53314547]),\n",
       " 'd10ef7d5-761e-4f08-9fa3-0858bec1effa': array([0.31383529, 0.37764182, 0.44235587, 0.57775082]),\n",
       " '5db2ce9c-ce8a-45a6-8f2d-3925433eac54': None,\n",
       " '94441303-215e-4628-b6e8-a83a9ecd6449': None,\n",
       " '715b023e-d4e7-42e6-b962-d6e9919a115d': array([0.27530339, 0.07888134, 0.41761155, 0.27273853]),\n",
       " '9474b30b-1a04-428e-8731-22408eef0b58': None,\n",
       " '4cbaa8bd-155c-42a9-b5a6-18e4166f563e': array([0.32087382, 0.43152675, 0.4438839 , 0.62175446]),\n",
       " '40b13746-cdf2-4aea-a414-124adfd65c9e': None,\n",
       " '6e9fae4e-571e-46fc-b2ea-0fa1361b677f': array([0.29602339, 0.13937975, 0.44223239, 0.37063599]),\n",
       " '7f1563b7-6501-4aa8-a81b-b065d30f5d73': array([0.29139647, 0.08359373, 0.38663821, 0.2118556 ]),\n",
       " '47215e81-9344-4f14-b72d-6094db42f9de': None,\n",
       " '7061518e-2bfb-4cfa-85a3-6aa0d4963c33': array([0.26162842, 0.0867648 , 0.42468417, 0.37145953]),\n",
       " '289f48dc-e160-48a3-a44e-82e4a9280acb': None,\n",
       " '02e23346-4ebd-4988-b7b2-0157e8dad78b': array([0.309918  , 0.38162844, 0.4474124 , 0.60541327]),\n",
       " 'd90dc18d-4d71-48b6-b453-ffbbc5be5e76': array([0.26095427, 0.08393258, 0.43525839, 0.36944502]),\n",
       " '29e6a989-95ba-4ebb-96da-2997d041beda': None,\n",
       " 'b69e552c-1538-48e4-b81a-a85bfba79bde': None,\n",
       " 'd7dd7608-6ee7-40d9-9ac9-99490880b685': array([0.2988784 , 0.12609374, 0.44713097, 0.38455402]),\n",
       " 'ea568787-5400-4884-b2a2-a2905fdba5a5': array([0.26251102, 0.0806359 , 0.43820865, 0.35393713]),\n",
       " '832d679a-9d4d-49bf-b989-0e141bc9f7f9': None,\n",
       " 'c2359ba8-87c7-4ab2-945a-c6cc650bbe0a': None,\n",
       " '6f173a85-c2b4-401f-81d2-8f75dfad04de': None,\n",
       " 'd0079d3a-aa6c-4b0a-8af5-d7379f1d9620': array([0.29667199, 0.40214054, 0.43654941, 0.60969033]),\n",
       " '5e9a412e-cb11-4263-a82a-80c33189d67b': array([0.31104929, 0.37848228, 0.44950271, 0.60496599]),\n",
       " '1af01016-66bf-47f0-a811-53d86f0332ec': None,\n",
       " 'b4ed143c-e239-43bf-a079-205aed7f84f2': array([0.31679718, 0.46335673, 0.43532798, 0.62099905]),\n",
       " 'e61b4e8f-321a-4e84-86ce-f0e7263281db': None,\n",
       " 'b3a75d27-09d0-44e5-a182-4bd28dcded28': None,\n",
       " 'b6b1f740-dc7e-43f4-935c-2568fc2f179d': None,\n",
       " '3666a90a-dbdc-489c-b384-8c4b2228e9de': None,\n",
       " '0f17faa1-dab2-4c2e-819f-f562338ae8e1': None,\n",
       " '2a4921cb-bc90-4f12-adbd-79889c7112b8': array([0.26620353, 0.13703031, 0.42934102, 0.37102241]),\n",
       " 'a4dde294-3f82-4146-bb9c-69ae582bde91': None,\n",
       " 'd8ac0033-e9da-4708-8172-08412b356679': array([0.31399798, 0.40525817, 0.44713081, 0.61766653]),\n",
       " '17d117e1-aec7-41d4-9dba-fe91b6538dc5': None,\n",
       " '4f75b8de-aab2-4768-9c59-9061bc6c6b3c': array([0.21611968, 0.44457096, 0.3876677 , 0.75743852]),\n",
       " 'fdac928e-ba0c-406f-93aa-86bbb2d5e4a3': array([0.31072611, 0.37165398, 0.43905224, 0.57238151]),\n",
       " '38467809-b566-4278-bb8e-3d15013abd30': array([0.27484512, 0.10743925, 0.42363463, 0.3698942 ]),\n",
       " '93ce6928-43fa-4334-ac46-d58066a7e2cb': None,\n",
       " '6cba8540-147f-4dab-9f2d-94381dca8f80': array([0.30833217, 0.37399767, 0.44128245, 0.57350244]),\n",
       " 'caf3fa83-80c0-4f2b-b7ec-ba45bda85d64': None,\n",
       " '17c60e4e-04a1-423f-928e-5f59a01cbd55': array([0.25334708, 0.5945458 , 0.33382309, 0.73230895]),\n",
       " 'c67bbb15-2ac9-4e9a-a648-1abe0e81eb15': None,\n",
       " '3e839be2-f273-43e3-87e5-2f773421ee08': array([0.1689514 , 0.09838847, 0.41942488, 0.5618113 ]),\n",
       " 'f6b0a935-8cd5-497b-b24a-b8e7d0573e56': None,\n",
       " '9bb7e9cf-aa6a-41aa-979b-4a341724f377': array([0.31609753, 0.40192633, 0.44713294, 0.62074463]),\n",
       " '05ddcea3-9d4f-42f6-9daa-9a248d47c961': None,\n",
       " '773681fc-f9ba-46ce-9b5e-54fceac5914f': None,\n",
       " '49b675f0-eca8-4754-a4c3-3f63d447ccc4': array([0.30754691, 0.37064342, 0.44607789, 0.58887338]),\n",
       " '08acc199-af16-4616-b078-26983db57d95': None,\n",
       " 'd2e3d74d-8c79-43cf-8963-850027988b56': None,\n",
       " '502886e5-5055-4545-a9cc-41ebf22d9e6e': None,\n",
       " '60e77338-ce61-4920-979c-980357ee88a4': None,\n",
       " '611828a0-e7ff-4a32-85ad-133be4beb6c0': array([0.23767485, 0.51409196, 0.34455148, 0.7629565 ]),\n",
       " 'c4b655de-0b28-4a4e-9b27-6be1d9871316': array([0.30948298, 0.37358884, 0.43216162, 0.55467598]),\n",
       " '43d490fd-2532-4a26-90a5-eba497d90cf4': array([0.26384311, 0.09063766, 0.42856512, 0.36414685]),\n",
       " '545a3a3f-ebf1-419c-b9d2-b5d95df3070a': array([0.29289653, 0.40298637, 0.44087396, 0.6123813 ]),\n",
       " 'a942d93e-a06e-4973-a1b6-a6239735f7a9': None,\n",
       " '073a1a89-e00c-429e-b5b8-68f5d2349d01': None,\n",
       " 'd55f4ef1-82b8-498b-a0a2-27eccbdd728e': array([0.28439321, 0.07267692, 0.41241981, 0.25673992]),\n",
       " '0acd85af-4d29-42a3-b6d0-287602c388e8': None,\n",
       " '38760abd-498b-40e0-9395-e5b5a808692b': array([0.26012201, 0.09414923, 0.43008241, 0.36366703]),\n",
       " 'e701d188-e4f4-41aa-ae46-b5b052c3e8f9': None,\n",
       " '6ca4c979-a61f-4255-8b15-a4c01b20c390': None,\n",
       " '7e134731-839a-4632-9edd-def10afdc72b': None,\n",
       " '36d801e1-3c00-4c82-b77f-d9189b87437d': array([0.29079034, 0.41841333, 0.4390041 , 0.62998965]),\n",
       " '42ad1fb7-cdc7-4e0e-8f2d-4d9620bcb748': None,\n",
       " '813242bc-b802-47db-89ad-bcad1ec0042f': array([0.34422646, 0.52963716, 0.47891856, 0.65738156]),\n",
       " 'a0fd2da0-4000-4f6d-b154-ec070edef963': array([0.3094851 , 0.38983129, 0.41507849, 0.51291974]),\n",
       " 'f7664096-b0db-4643-a71b-3457da70cea8': array([0.29768181, 0.39865493, 0.44513144, 0.60349613]),\n",
       " '66014836-dc5e-42b9-bd7c-6b9843018fc3': None,\n",
       " 'b62c1f98-e10f-4ec6-8f6d-17347388bf88': None,\n",
       " '5f7ac065-7cf4-4ed5-a689-e6a2e3f3fba2': array([0.31095532, 0.40005192, 0.39226825, 0.49384868]),\n",
       " '56f2443f-059d-4042-a25f-c3e20dd044c3': None,\n",
       " '49285d31-797a-4dd8-aaf9-925bb48d2cef': array([0.27569256, 0.07379972, 0.42498913, 0.29959367]),\n",
       " '4e11b984-d9ab-4c62-90c8-f2ad8aae0af4': array([0.29629281, 0.1876064 , 0.40632293, 0.35501682]),\n",
       " '6a8c5906-f3e1-41b7-a1f8-c97e155b8037': array([0.22166007, 0.46283023, 0.38925887, 0.74849942]),\n",
       " 'd5266b0e-97d5-4bce-9feb-c681251af466': array([0.37161442, 0.51609174, 0.43471675, 0.59595454]),\n",
       " '5729e1e0-3b94-4f5a-a30a-ef350c9c4d52': array([0.26640885, 0.08379185, 0.43433193, 0.31795539]),\n",
       " 'f77beeb1-bf85-4e1e-84ea-f026f698d46a': None,\n",
       " 'e57240eb-f3d1-4e8e-bfd2-d36ec75d9c06': None,\n",
       " '3b4229dd-7eb3-420c-95ea-ce2f10e775ff': array([0.32144842, 0.42437277, 0.40980298, 0.52255473]),\n",
       " 'b03f34a3-fa76-42dc-8743-b1e39f426800': array([0.33230161, 0.45673877, 0.44075001, 0.61999932]),\n",
       " '5a5c33bc-43a1-4923-8a0b-59b8a7c16c16': array([0.2661168 , 0.10273813, 0.42867934, 0.37883477]),\n",
       " '0257347d-b010-4754-b1a1-5066b725b13f': array([0.22933911, 0.48378003, 0.35297407, 0.77903334]),\n",
       " '8ed9eed6-991f-4054-b3c3-4bfe74cf8847': None,\n",
       " '4021531a-bd19-43b0-85e5-7c1ad3cb3ab4': array([0.35536215, 0.49900925, 0.44371137, 0.60820618]),\n",
       " 'e992d98f-7f6b-43f3-9ec6-e73390b0c8af': None,\n",
       " '773cc7c6-a5a0-42c3-b735-7ec65b45531d': None,\n",
       " '80d284d5-fd39-4719-ac5c-5bad5890e29b': array([0.27117819, 0.47659238, 0.41312945, 0.66328477]),\n",
       " 'be88dbf4-ef3f-4fc3-9478-35946a67a3f3': None,\n",
       " '7d301f8f-0b8c-49ee-a80b-f4b97cbc9877': array([0.28764964, 0.15594895, 0.42568466, 0.37702566]),\n",
       " 'bc0ef0c8-bf87-4ce3-9cfe-6b8f4b2114a3': array([0.27349387, 0.08277586, 0.42566225, 0.31045993]),\n",
       " '0d11c4ae-f112-4909-abb6-01556cd3201e': None,\n",
       " 'eba97b01-5723-4e7a-8498-f897487a8a2d': array([0.24147234, 0.46414876, 0.39375153, 0.72737174]),\n",
       " '5164d1d4-5cf6-48a5-afe1-7205e1b06bf5': array([0.31063531, 0.40100326, 0.39908454, 0.50207766]),\n",
       " 'fbdba4a7-009a-4e18-b3e4-33e430b21231': array([0.26517403, 0.10541946, 0.42732681, 0.37437587]),\n",
       " '6ed0d327-1576-4a97-8aa2-90a48904703e': None,\n",
       " '2ad7d992-e857-4d8f-b7f7-c84ed57d4af8': array([0.2614091 , 0.09027468, 0.42896503, 0.36566294]),\n",
       " '038a2671-e20f-4497-a6e9-6490d5c1cfec': None,\n",
       " '1096ad34-7ada-476a-9429-03759005d976': array([0.31007051, 0.44352819, 0.43675533, 0.62146593]),\n",
       " '217b46ac-4dd1-4143-b7cd-b106a556bc40': None,\n",
       " 'ac6d150f-b49e-465b-8571-bf89d737d73e': None,\n",
       " '9811c704-0060-4c9b-98ad-4283d7c9f67e': None,\n",
       " 'd938d6e4-43b4-4a0f-adcb-948dfd48b19d': None,\n",
       " '57381d85-dc5f-4aca-818b-07b7047f3640': None,\n",
       " '78b89941-2346-4af3-9ede-f783341d80ea': array([0.26729521, 0.11207559, 0.4185078 , 0.37948682]),\n",
       " '22db7b12-b161-44d6-aef7-a815ff81ef03': array([0.30617354, 0.41305082, 0.44409761, 0.61145634]),\n",
       " 'f28e57a1-614d-4d6d-9161-1feb5f7ffe95': None,\n",
       " '32228708-0fb5-4056-a408-56589bba2e0a': None,\n",
       " '38505476-79a1-49f4-baf1-fa35554921b9': array([0.22169284, 0.45458197, 0.36475336, 0.77701217]),\n",
       " 'c1e7563e-c5e9-40f2-8bff-44b40ef9ca99': array([0.30858162, 0.37373826, 0.43435024, 0.55690881]),\n",
       " '8dee6b36-3c8d-49d4-97a9-2b0618a4c53f': array([0.26518413, 0.0804198 , 0.43463202, 0.37057622]),\n",
       " 'a14a77a6-6b40-4258-bbc6-6760805abe9a': array([0.26930452, 0.08920321, 0.42705143, 0.30848455]),\n",
       " '34f090d6-9967-4aca-8e39-b6713cd9f3aa': None,\n",
       " '20a011e9-ae86-4b2c-b283-642bcc1be0dd': array([0.29836441, 0.38459709, 0.43537403, 0.58683655]),\n",
       " '91b0c082-51a9-4b3c-92b7-aaa8ae8e24dd': array([0.30745233, 0.39216163, 0.42703156, 0.56144849]),\n",
       " '15e59c4f-af6e-49c0-8064-04c339bc633a': None,\n",
       " '26d974bd-5734-49a5-909b-2aeb143e3093': array([0.17772628, 0.08503814, 0.44149807, 0.60043452]),\n",
       " '7d077d1f-d476-4147-b621-274f02534afa': array([0.31913535, 0.49270803, 0.42928974, 0.63336952]),\n",
       " '0635f340-1779-439e-8072-fce2fcff8407': array([0.26968961, 0.07821678, 0.42881724, 0.32973248]),\n",
       " 'a413593c-5be8-4562-88c7-e138a6bb970d': array([0.26442917, 0.10004393, 0.42824934, 0.3822437 ]),\n",
       " '2870aaad-4d59-4bb4-983a-65ce0eb16010': None,\n",
       " '707e12f1-057b-4b00-a156-d09012b99a5a': None,\n",
       " '1065053e-b554-4955-a15e-f4c699de6b68': None,\n",
       " '1759a89b-273b-40bb-afc4-cda328a2e32a': None,\n",
       " 'f8914b31-7766-403f-919c-643fc56bb246': None,\n",
       " '696f9885-64c9-4bd1-8323-a81dcb84c1d8': None,\n",
       " '5ab4506b-1d27-414c-9c7f-ea5dc8ed8560': None,\n",
       " 'ccf6e0d8-548a-4404-b471-f1eeed68aeaa': array([0.2695292 , 0.12974286, 0.42646616, 0.37042414]),\n",
       " 'e0522f73-6ea0-4e32-a1c9-265d0a16661e': array([0.28196614, 0.07219105, 0.40231951, 0.24120878]),\n",
       " 'a9016bb2-63fc-49ba-afb2-06bac4f7eb3d': array([0.30906184, 0.38168132, 0.42552917, 0.53337674]),\n",
       " 'bbda984d-b484-4d79-baf4-1558a275f2e1': array([0.21018698, 0.44595956, 0.37809727, 0.77018513]),\n",
       " '8af2f340-8d5a-4c6d-83cd-d6feb73bd6f1': None,\n",
       " 'c4ae2a1c-5efb-4d52-9255-359392ae785b': array([0.37172691, 0.51974717, 0.43754703, 0.59801785]),\n",
       " 'b86b0921-13e7-46d5-a175-993023906ce0': None,\n",
       " 'ea1d0b9b-ba19-4a4a-b7b9-52979704923c': None,\n",
       " '102442f1-27d8-4169-80d1-ecd1993072d5': array([0.32044164, 0.41758562, 0.40055942, 0.50321733]),\n",
       " '57a053a3-6623-4aaa-934c-f1b2a300454a': array([0.33153881, 0.45354892, 0.44382881, 0.62089288]),\n",
       " '599c4dea-051f-46a0-a554-6deb34f4587c': array([0.27450945, 0.06999154, 0.42057108, 0.28334446]),\n",
       " '092c9fd2-58f9-4323-8074-0dd1017d0b27': array([0.30530973, 0.50619469, 0.46106195, 0.63539823]),\n",
       " '69a3f15a-84d1-4ab0-9f7a-827afa323ff7': array([0.35133925, 0.4933153 , 0.44538851, 0.61146622]),\n",
       " '96ff5bd9-6d88-4c43-8265-70b01bcc97b2': array([0.33632487, 0.49060223, 0.42656316, 0.59299526]),\n",
       " 'd4d320d3-2cdd-4db7-9b25-4b8ce35ef6fb': array([0.26594909, 0.12501656, 0.4234031 , 0.37726126]),\n",
       " '0b2f89f6-79b4-423b-8e44-e85e7098063c': None,\n",
       " '4ffe76fa-8d3a-4231-bde7-47f960f6b511': array([0.32117552, 0.43116715, 0.44472239, 0.62220259]),\n",
       " '5bd7446d-b7e7-47cf-9e71-6f493ec54247': None,\n",
       " '9df7473d-6853-46e5-97a6-d99bfa79a348': array([0.31069024, 0.38894413, 0.41603403, 0.51396725]),\n",
       " '1d850976-2904-4944-aaf7-c40bd7c0907d': array([0.26413969, 0.09127743, 0.42982125, 0.38152664]),\n",
       " '46c027ab-da5e-41c1-a047-7f0380fb00df': None,\n",
       " '5a950fa8-bb5b-44b1-821f-b01bebbaf504': None,\n",
       " '11528ad5-e699-405d-838f-aab0a1ecad9c': array([0.27143662, 0.08135782, 0.43030423, 0.3454179 ]),\n",
       " '830c0d7f-0655-4b6a-bd6d-b819b6f0ca42': None}"
      ]
     },
     "execution_count": 6,
     "metadata": {},
     "output_type": "execute_result"
    }
   ],
   "source": [
    "ground_truth = generator.generate(rectangular_label_elements)\n",
    "ground_truth"
   ]
  },
  {
   "cell_type": "markdown",
   "metadata": {},
   "source": [
    "### Check Users' Specificity and Sensitivity\n",
    "\n",
    "MedTagger supports easy calculation of Users' Specificity, Sensitivity and Score based on their annotations and Ground Truth data set."
   ]
  },
  {
   "cell_type": "code",
   "execution_count": 7,
   "metadata": {},
   "outputs": [
    {
     "name": "stdout",
     "output_type": "stream",
     "text": [
      "There are 36 Users.\n"
     ]
    }
   ],
   "source": [
    "users = set(element.label.owner for element in rectangular_label_elements)\n",
    "print(f'There are {len(users)} Users.')"
   ]
  },
  {
   "cell_type": "code",
   "execution_count": 8,
   "metadata": {},
   "outputs": [],
   "source": [
    "users_specificity, users_sensitivity, users_scores = \\\n",
    "    compute_specificity_and_sensitivity_for_users(algorithm, users,\n",
    "                                                  rectangular_label_elements, ground_truth)"
   ]
  },
  {
   "cell_type": "code",
   "execution_count": 9,
   "metadata": {},
   "outputs": [
    {
     "name": "stdout",
     "output_type": "stream",
     "text": [
      "User #001: Sensitivity=0.00000 Specificity=0.98649 Score=0.00018\n",
      "User #003: Sensitivity=0.47561 Specificity=1.00000 Score=0.22620\n",
      "User #005: Sensitivity=0.50000 Specificity=1.00000 Score=0.25000\n",
      "User #025: Sensitivity=0.52439 Specificity=1.00000 Score=0.27499\n",
      "User #031: Sensitivity=0.50000 Specificity=0.98649 Score=0.23667\n",
      "User #033: Sensitivity=0.24390 Specificity=1.00000 Score=0.05949\n",
      "User #034: Sensitivity=0.45122 Specificity=1.00000 Score=0.20360\n",
      "User #035: Sensitivity=0.40244 Specificity=1.00000 Score=0.16196\n",
      "User #036: Sensitivity=0.39024 Specificity=1.00000 Score=0.15229\n",
      "User #037: Sensitivity=0.47561 Specificity=1.00000 Score=0.22620\n",
      "User #039: Sensitivity=0.02439 Specificity=0.97297 Score=0.00001\n",
      "User #040: Sensitivity=0.47561 Specificity=1.00000 Score=0.22620\n",
      "User #041: Sensitivity=0.45122 Specificity=0.98649 Score=0.19159\n",
      "User #042: Sensitivity=0.46341 Specificity=1.00000 Score=0.21475\n",
      "User #043: Sensitivity=0.39024 Specificity=1.00000 Score=0.15229\n",
      "User #044: Sensitivity=0.90244 Specificity=1.00000 Score=0.81440\n",
      "User #048: Sensitivity=0.46341 Specificity=0.90541 Score=0.13603\n",
      "User #049: Sensitivity=0.02439 Specificity=0.98649 Score=0.00012\n",
      "User #052: Sensitivity=0.46341 Specificity=1.00000 Score=0.21475\n",
      "User #053: Sensitivity=0.03659 Specificity=1.00000 Score=0.00134\n",
      "User #054: Sensitivity=0.47561 Specificity=1.00000 Score=0.22620\n",
      "User #055: Sensitivity=0.79268 Specificity=1.00000 Score=0.62835\n",
      "User #056: Sensitivity=0.51220 Specificity=1.00000 Score=0.26234\n",
      "User #058: Sensitivity=0.51220 Specificity=1.00000 Score=0.26234\n",
      "User #059: Sensitivity=0.45122 Specificity=1.00000 Score=0.20360\n",
      "User #060: Sensitivity=0.39024 Specificity=1.00000 Score=0.15229\n",
      "User #065: Sensitivity=0.32927 Specificity=1.00000 Score=0.10842\n",
      "User #067: Sensitivity=0.85366 Specificity=1.00000 Score=0.72873\n",
      "User #072: Sensitivity=0.51220 Specificity=1.00000 Score=0.26234\n",
      "User #091: Sensitivity=0.84146 Specificity=0.97297 Score=0.66331\n",
      "User #092: Sensitivity=0.06098 Specificity=1.00000 Score=0.00372\n",
      "User #096: Sensitivity=0.46341 Specificity=1.00000 Score=0.21475\n",
      "User #097: Sensitivity=0.40244 Specificity=1.00000 Score=0.16196\n",
      "User #098: Sensitivity=0.43902 Specificity=1.00000 Score=0.19274\n",
      "User #099: Sensitivity=0.51220 Specificity=0.94595 Score=0.20989\n",
      "User #101: Sensitivity=0.20732 Specificity=1.00000 Score=0.04298\n"
     ]
    }
   ],
   "source": [
    "users_ids = set(e.label.owner_id for e in rectangular_label_elements)\n",
    "for user_id in users_ids:\n",
    "    print(f'User #{user_id:03d}: Sensitivity={users_sensitivity[user_id]:1.5f} '\n",
    "          f'Specificity={users_specificity[user_id]:1.5f} Score={users_scores[user_id]:1.5f}')"
   ]
  },
  {
   "cell_type": "code",
   "execution_count": 10,
   "metadata": {},
   "outputs": [
    {
     "data": {
      "image/png": "[encoded data removed]",
      "text/plain": [
       "<Figure size 864x576 with 1 Axes>"
      ]
     },
     "metadata": {
      "needs_background": "light"
     },
     "output_type": "display_data"
    }
   ],
   "source": [
    "figures.specificity_vs_sensitivity(users_specificity, users_sensitivity)"
   ]
  },
  {
   "cell_type": "markdown",
   "metadata": {},
   "source": [
    "### Compare Labeling Time to Users' Score\n",
    "\n",
    "You can also check how User's mean Labeling Time outputs in their achieved scores."
   ]
  },
  {
   "cell_type": "code",
   "execution_count": 11,
   "metadata": {},
   "outputs": [
    {
     "data": {
      "image/png": "[encoded data removed]",
      "text/plain": [
       "<Figure size 864x576 with 1 Axes>"
      ]
     },
     "metadata": {
      "needs_background": "light"
     },
     "output_type": "display_data"
    }
   ],
   "source": [
    "figures.mean_labeling_time_vs_score(rectangular_label_elements, users_scores)"
   ]
  }
 ],
 "metadata": {
  "kernelspec": {
   "display_name": "Python 3",
   "language": "python",
   "name": "python3"
  },
  "language_info": {
   "codemirror_mode": {
    "name": "ipython",
    "version": 3
   },
   "file_extension": ".py",
   "mimetype": "text/x-python",
   "name": "python",
   "nbconvert_exporter": "python",
   "pygments_lexer": "ipython3",
   "version": "3.7.0"
  }
 },
 "nbformat": 4,
 "nbformat_minor": 2
}
